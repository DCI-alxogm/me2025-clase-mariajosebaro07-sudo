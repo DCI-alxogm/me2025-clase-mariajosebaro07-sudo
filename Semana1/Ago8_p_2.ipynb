{
  "nbformat": 4,
  "nbformat_minor": 0,
  "metadata": {
    "colab": {
      "provenance": []
    },
    "kernelspec": {
      "name": "python3",
      "display_name": "Python 3"
    },
    "language_info": {
      "name": "python"
    }
  },
  "cells": [
    {
      "cell_type": "code",
      "execution_count": 2,
      "metadata": {
        "id": "XMNJ2mCkk9Z7"
      },
      "outputs": [],
      "source": [
        "!gcc segundo_programa.c -o segunado_programa.out"
      ]
    },
    {
      "cell_type": "code",
      "source": [
        "!./segunado_programa.out"
      ],
      "metadata": {
        "colab": {
          "base_uri": "https://localhost:8080/"
        },
        "id": "_WbjW5b5lyTA",
        "outputId": "0cbc1d5e-85cb-4475-8061-9084ed8ec020"
      },
      "execution_count": 3,
      "outputs": [
        {
          "output_type": "stream",
          "name": "stdout",
          "text": [
            "10"
          ]
        }
      ]
    }
  ]
}