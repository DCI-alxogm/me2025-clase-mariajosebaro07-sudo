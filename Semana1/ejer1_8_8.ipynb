{
  "nbformat": 4,
  "nbformat_minor": 0,
  "metadata": {
    "colab": {
      "provenance": []
    },
    "kernelspec": {
      "name": "python3",
      "display_name": "Python 3"
    },
    "language_info": {
      "name": "python"
    }
  },
  "cells": [
    {
      "cell_type": "code",
      "source": [
        "!gcc ejer1.c -o ejer1.out"
      ],
      "metadata": {
        "colab": {
          "base_uri": "https://localhost:8080/"
        },
        "id": "EVJvLBUqzA53",
        "outputId": "b20ef303-1d4b-4ab1-87cf-6a0b89532fc5"
      },
      "execution_count": 2,
      "outputs": [
        {
          "output_type": "stream",
          "name": "stdout",
          "text": [
            "\u001b[01m\u001b[Kejer1.c:\u001b[m\u001b[K In function ‘\u001b[01m\u001b[Kmain\u001b[m\u001b[K’:\n",
            "\u001b[01m\u001b[Kejer1.c:7:3:\u001b[m\u001b[K \u001b[01;31m\u001b[Kerror: \u001b[m\u001b[Kexpected ‘\u001b[01m\u001b[K=\u001b[m\u001b[K’, ‘\u001b[01m\u001b[K,\u001b[m\u001b[K’, ‘\u001b[01m\u001b[K;\u001b[m\u001b[K’, ‘\u001b[01m\u001b[Kasm\u001b[m\u001b[K’ or ‘\u001b[01m\u001b[K__attribute__\u001b[m\u001b[K’ before ‘\u001b[01m\u001b[Knumeros\u001b[m\u001b[K’\n",
            "    7 |   \u001b[01;31m\u001b[Knumeros\u001b[m\u001b[K[0]=7;\n",
            "      |   \u001b[01;31m\u001b[K^~~~~~~\u001b[m\u001b[K\n",
            "\u001b[01m\u001b[Kejer1.c:7:3:\u001b[m\u001b[K \u001b[01;31m\u001b[Kerror: \u001b[m\u001b[K‘\u001b[01m\u001b[Knumeros\u001b[m\u001b[K’ undeclared (first use in this function)\n",
            "\u001b[01m\u001b[Kejer1.c:7:3:\u001b[m\u001b[K \u001b[01;36m\u001b[Knote: \u001b[m\u001b[Keach undeclared identifier is reported only once for each function it appears in\n"
          ]
        }
      ]
    }
  ]
}