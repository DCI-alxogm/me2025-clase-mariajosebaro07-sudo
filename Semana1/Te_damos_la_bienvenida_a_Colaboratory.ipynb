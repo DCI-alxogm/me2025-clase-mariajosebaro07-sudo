{
  "cells": [
    {
      "cell_type": "code",
      "source": [
        "!gcc hola_mundo.c -o hola_mundo.out"
      ],
      "metadata": {
        "id": "jYuKePkmfn-E"
      },
      "execution_count": 30,
      "outputs": []
    },
    {
      "cell_type": "code",
      "source": [
        "!./hola_mundo.out"
      ],
      "metadata": {
        "id": "g0UzCUvphJiF",
        "outputId": "d4537c8d-3277-485f-cad1-1408ebfa8400",
        "colab": {
          "base_uri": "https://localhost:8080/"
        }
      },
      "execution_count": 29,
      "outputs": [
        {
          "output_type": "stream",
          "name": "stdout",
          "text": [
            "Hola Mundo"
          ]
        }
      ]
    }
  ],
  "metadata": {
    "colab": {
      "name": "Te damos la bienvenida a Colaboratory",
      "provenance": []
    },
    "kernelspec": {
      "display_name": "Python 3",
      "name": "python3"
    }
  },
  "nbformat": 4,
  "nbformat_minor": 0
}