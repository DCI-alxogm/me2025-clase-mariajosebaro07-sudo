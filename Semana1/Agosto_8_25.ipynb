{
  "cells": [
    {
      "cell_type": "code",
      "source": [
        "!gcc hola_mundo.c -o hola_mundo.out"
      ],
      "metadata": {
        "id": "jYuKePkmfn-E"
      },
      "execution_count": null,
      "outputs": []
    },
    {
      "cell_type": "code",
      "source": [
        "!./hola_mundo.out"
      ],
      "metadata": {
        "colab": {
          "base_uri": "https://localhost:8080/"
        },
        "id": "g0UzCUvphJiF",
        "outputId": "d4537c8d-3277-485f-cad1-1408ebfa8400"
      },
      "execution_count": null,
      "outputs": [
        {
          "output_type": "stream",
          "name": "stdout",
          "text": [
            "Hola Mundo"
          ]
        }
      ]
    }
  ],
  "metadata": {
    "colab": {
      "provenance": []
    },
    "kernelspec": {
      "display_name": "Python 3",
      "name": "python3"
    }
  },
  "nbformat": 4,
  "nbformat_minor": 0
}