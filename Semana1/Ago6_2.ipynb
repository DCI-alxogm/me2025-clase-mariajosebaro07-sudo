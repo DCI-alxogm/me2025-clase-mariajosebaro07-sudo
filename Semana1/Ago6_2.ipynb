{
  "nbformat": 4,
  "nbformat_minor": 0,
  "metadata": {
    "colab": {
      "provenance": [],
      "authorship_tag": "ABX9TyMqkv94wUPwew7pngW7u9sq",
      "include_colab_link": true
    },
    "kernelspec": {
      "name": "python3",
      "display_name": "Python 3"
    },
    "language_info": {
      "name": "python"
    }
  },
  "cells": [
    {
      "cell_type": "markdown",
      "metadata": {
        "id": "view-in-github",
        "colab_type": "text"
      },
      "source": [
        "<a href=\"https://colab.research.google.com/github/DCI-alxogm/me2025-clase-mariajosebaro07-sudo/blob/main/Semana1/Ago6_2.ipynb\" target=\"_parent\"><img src=\"https://colab.research.google.com/assets/colab-badge.svg\" alt=\"Open In Colab\"/></a>"
      ]
    },
    {
      "cell_type": "code",
      "execution_count": null,
      "metadata": {
        "id": "isPiHWYjZLuA"
      },
      "outputs": [],
      "source": [
        "# Segundo cuaderno"
      ]
    },
    {
      "cell_type": "code",
      "source": [
        "print(\"prueba de cuaderno\")"
      ],
      "metadata": {
        "colab": {
          "base_uri": "https://localhost:8080/"
        },
        "id": "GGLlETdZbbEw",
        "outputId": "7a03ca0c-1efe-40c2-befd-4860721a331a"
      },
      "execution_count": 1,
      "outputs": [
        {
          "output_type": "stream",
          "name": "stdout",
          "text": [
            "prueba de cuaderno\n"
          ]
        }
      ]
    },
    {
      "cell_type": "code",
      "source": [],
      "metadata": {
        "id": "LHqls0DMbmw4"
      },
      "execution_count": null,
      "outputs": []
    }
  ]
}