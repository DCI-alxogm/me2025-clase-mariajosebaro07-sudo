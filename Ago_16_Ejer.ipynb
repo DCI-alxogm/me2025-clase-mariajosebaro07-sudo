{
  "nbformat": 4,
  "nbformat_minor": 0,
  "metadata": {
    "colab": {
      "provenance": [],
      "authorship_tag": "ABX9TyNtPt8tTrLsQwNrzAiCsJKZ",
      "include_colab_link": true
    },
    "kernelspec": {
      "name": "python3",
      "display_name": "Python 3"
    },
    "language_info": {
      "name": "python"
    }
  },
  "cells": [
    {
      "cell_type": "markdown",
      "metadata": {
        "id": "view-in-github",
        "colab_type": "text"
      },
      "source": [
        "<a href=\"https://colab.research.google.com/github/DCI-alxogm/me2025-clase-mariajosebaro07-sudo/blob/main/Ago_16_Ejer.ipynb\" target=\"_parent\"><img src=\"https://colab.research.google.com/assets/colab-badge.svg\" alt=\"Open In Colab\"/></a>"
      ]
    },
    {
      "cell_type": "code",
      "execution_count": 9,
      "metadata": {
        "id": "tW3dNsjkvn6j"
      },
      "outputs": [],
      "source": [
        "!gcc Ago_16.c -o Ago_16.out -lm"
      ]
    },
    {
      "cell_type": "code",
      "source": [
        "!./Ago_16.out"
      ],
      "metadata": {
        "colab": {
          "base_uri": "https://localhost:8080/"
        },
        "id": "N7Lh4rihxTTC",
        "outputId": "19dbd2ff-86e5-4ca9-9096-4ad9c332fc0c"
      },
      "execution_count": 10,
      "outputs": [
        {
          "output_type": "stream",
          "name": "stdout",
          "text": [
            "Por favor ingrese los valores correspondientes para a, b y c del polinomio:2, 4, 5\n",
            "x1= 0.224745, x2= -2.224745\n",
            "Quisieras resolver otro binomio (verdadero = 1, falso = 0)0\n"
          ]
        }
      ]
    }
  ]
}