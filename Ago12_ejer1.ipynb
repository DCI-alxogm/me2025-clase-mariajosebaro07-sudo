{
  "nbformat": 4,
  "nbformat_minor": 0,
  "metadata": {
    "colab": {
      "provenance": [],
      "authorship_tag": "ABX9TyNsJpL00/gg7CSZuZRbHNzW",
      "include_colab_link": true
    },
    "kernelspec": {
      "name": "python3",
      "display_name": "Python 3"
    },
    "language_info": {
      "name": "python"
    }
  },
  "cells": [
    {
      "cell_type": "markdown",
      "metadata": {
        "id": "view-in-github",
        "colab_type": "text"
      },
      "source": [
        "<a href=\"https://colab.research.google.com/github/DCI-alxogm/me2025-clase-mariajosebaro07-sudo/blob/main/Ago12_ejer1.ipynb\" target=\"_parent\"><img src=\"https://colab.research.google.com/assets/colab-badge.svg\" alt=\"Open In Colab\"/></a>"
      ]
    },
    {
      "cell_type": "code",
      "source": [
        "!gcc Ago12_ejer1.c -o Ago12_ejer1.out -lm"
      ],
      "metadata": {
        "id": "j500YeJEMxLJ"
      },
      "execution_count": 38,
      "outputs": []
    },
    {
      "cell_type": "code",
      "source": [
        "!./Ago12_ejer1.out"
      ],
      "metadata": {
        "colab": {
          "base_uri": "https://localhost:8080/"
        },
        "id": "mDohnBksTfwx",
        "outputId": "2b21f6c1-8b9d-475c-b54f-f67bdd67a0eb"
      },
      "execution_count": 39,
      "outputs": [
        {
          "output_type": "stream",
          "name": "stdout",
          "text": [
            "x\t x^2 \t log(x+1) \t exp (x)+ cos(x)\n",
            "x=1 \n",
            " exp(x)+cos(x)= 3.258584\n",
            "2 0.477121\n",
            "x=3 \n",
            " exp(x)+cos(x)= 19.095545\n",
            "4 0.698970\n",
            "x=5 \n",
            " exp(x)+cos(x)= 148.696823\n",
            "Resultados\n",
            "\n",
            "3.258584\n",
            "0.477121\n",
            "19.095545\n",
            "0.698970\n",
            "148.696823\n",
            "Pi + Pi= 6.283185"
          ]
        }
      ]
    }
  ]
}