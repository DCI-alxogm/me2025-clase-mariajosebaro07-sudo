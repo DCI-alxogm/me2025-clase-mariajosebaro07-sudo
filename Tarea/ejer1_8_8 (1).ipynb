{
  "nbformat": 4,
  "nbformat_minor": 0,
  "metadata": {
    "colab": {
      "provenance": []
    },
    "kernelspec": {
      "name": "python3",
      "display_name": "Python 3"
    },
    "language_info": {
      "name": "python"
    }
  },
  "cells": [
    {
      "cell_type": "code",
      "source": [
        "!gcc Ejercicio1.c -o Ejercicio1.out -lm"
      ],
      "metadata": {
        "id": "R-Y7TEOEEMaY"
      },
      "execution_count": 7,
      "outputs": []
    },
    {
      "cell_type": "code",
      "source": [
        "!/content/Ejercicio1.out"
      ],
      "metadata": {
        "colab": {
          "base_uri": "https://localhost:8080/"
        },
        "id": "P21W28aRE9of",
        "outputId": "026dc1a3-1098-4c83-a0da-373aab606620"
      },
      "execution_count": 12,
      "outputs": [
        {
          "output_type": "stream",
          "name": "stdout",
          "text": [
            "Números: 7.5005.50010.0004.8002.000\n",
            "\n",
            "Resultados de las funciones\n",
            "x        x^2       log(x+1)    exp(x)+cos(x)\n",
            "7.500   56.250     2.140      1808.389\n",
            "5.500   30.250     1.872      245.401\n",
            "10.000   100.000     2.398      22025.627\n",
            "4.800   23.040     1.758      121.598\n",
            "2.000   4.000     1.099      6.973\n"
          ]
        }
      ]
    }
  ]
}