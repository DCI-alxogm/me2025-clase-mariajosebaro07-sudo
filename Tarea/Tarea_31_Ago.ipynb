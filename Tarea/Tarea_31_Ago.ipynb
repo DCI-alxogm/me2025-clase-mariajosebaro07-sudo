{
  "cells": [
    {
      "cell_type": "code",
      "source": [
        "!gcc Tarea_serie.c -o Tarea_serie.out -lm"
      ],
      "metadata": {
        "id": "7DQWeAUVEDDd"
      },
      "execution_count": 34,
      "outputs": []
    },
    {
      "cell_type": "code",
      "source": [
        "!./Tarea_serie.out"
      ],
      "metadata": {
        "colab": {
          "base_uri": "https://localhost:8080/"
        },
        "id": "AzfRKYgLFUSx",
        "outputId": "09dde571-c2d2-4cce-9bcc-a20ee5190a55"
      },
      "execution_count": 36,
      "outputs": [
        {
          "output_type": "stream",
          "name": "stdout",
          "text": [
            "\n",
            "Seleccione una función:\n",
            "1. sen(x^2 + 3)\n",
            "2. cos(2x + 7)\n",
            "3. exp(x^4 - 8)\n",
            "4. ln(x + 8)\n",
            "5. x^22\n",
            "Opción: 3\n",
            "Ingrese el valor de x: 5\n",
            "Ingrese el punto de expansión (a): 1\n",
            "Ingrese el número de términos (máx 20): 6\n",
            "\n",
            "--- Resultados ---\n",
            "Valor real en x = 5.0000: 9113712710724315880703738931466293509575541805958873642149719272868411187500635125697187366579264848093636494561230620193978610046004687166634000267536952545519622832987727468737782023578141564866268148581881479688276571088758596615063863439684305714818504223258312704.000000\n",
            "Aproximación de Taylor en torno a a = 1.0000 con 6 términos: 0.039089\n",
            "Error: 9113712710724315880703738931466293509575541805958873642149719272868411187500635125697187366579264848093636494561230620193978610046004687166634000267536952545519622832987727468737782023578141564866268148581881479688276571088758596615063863439684305714818504223258312704.000000\n",
            "------------------\n",
            "¿Desea hacer otro cálculo? (si/no): si\n",
            "\n",
            "Seleccione una función:\n",
            "1. sen(x^2 + 3)\n",
            "2. cos(2x + 7)\n",
            "3. exp(x^4 - 8)\n",
            "4. ln(x + 8)\n",
            "5. x^22\n",
            "Opción: 7\n",
            "Ingrese el valor de x: 4\n",
            "Ingrese el punto de expansión (a): 5\n",
            "Ingrese el número de términos (máx 20): 6\n",
            "Opción no válida.\n",
            "\n",
            "Seleccione una función:\n",
            "1. sen(x^2 + 3)\n",
            "2. cos(2x + 7)\n",
            "3. exp(x^4 - 8)\n",
            "4. ln(x + 8)\n",
            "5. x^22\n",
            "Opción: 5\n",
            "Ingrese el valor de x: 6\n",
            "Ingrese el punto de expansión (a): 4\n",
            "Ingrese el número de términos (máx 20): 4\n",
            "\n",
            "--- Resultados ---\n",
            "Valor real en x = 6.0000: 131621703842267136.000000\n",
            "Aproximación de Taylor en torno a a = 4.0000 con 4 términos: 1227054976598016.000000\n",
            "Error: 130394648865669120.000000\n",
            "------------------\n",
            "¿Desea hacer otro cálculo? (si/no): no\n"
          ]
        }
      ]
    }
  ],
  "metadata": {
    "colab": {
      "name": "Te damos la bienvenida a Colab",
      "provenance": []
    },
    "kernelspec": {
      "display_name": "Python 3",
      "name": "python3"
    }
  },
  "nbformat": 4,
  "nbformat_minor": 0
}