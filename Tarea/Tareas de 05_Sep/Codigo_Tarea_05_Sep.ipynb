{
  "cells": [
    {
      "cell_type": "code",
      "source": [
        "!gcc Tarea_05_Sep.c -o Tarea_05_sep.out -lm"
      ],
      "metadata": {
        "id": "V0PNHWQmrO3w"
      },
      "execution_count": 2,
      "outputs": []
    },
    {
      "cell_type": "code",
      "source": [
        "!./Tarea_05_sep.out"
      ],
      "metadata": {
        "id": "Sq4A5ULOsbKD",
        "outputId": "58b56c15-35e6-4be8-8f71-73b433a0b2a2",
        "colab": {
          "base_uri": "https://localhost:8080/"
        }
      },
      "execution_count": 3,
      "outputs": [
        {
          "output_type": "stream",
          "name": "stdout",
          "text": [
            "=== RESULTADOS DEL PROGRAMA ===\n",
            "Constante de integracion: 1.200000\n",
            "\n",
            "Funcion reconstruida:\n",
            "f(x) = -0.1000*x^4 + -0.1500*x^3 + -0.5000*x^2 + -0.2500*x + 1.200000\n",
            "\n",
            "Derivada:\n",
            "f'(x) = -0.4000*x^3 + -0.4500*x^2 + -1.0000*x + -0.2500\n",
            "\n",
            "Validacion en el punto x = 0.50\n",
            "f(0.50) = 0.925000\n",
            "f'(0.50) = -0.912500\n"
          ]
        }
      ]
    }
  ],
  "metadata": {
    "colab": {
      "name": "Te damos la bienvenida a Colab",
      "provenance": []
    },
    "kernelspec": {
      "display_name": "Python 3",
      "name": "python3"
    }
  },
  "nbformat": 4,
  "nbformat_minor": 0
}