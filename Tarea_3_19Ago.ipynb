{
  "nbformat": 4,
  "nbformat_minor": 0,
  "metadata": {
    "colab": {
      "provenance": [],
      "authorship_tag": "ABX9TyMCI6oFLmkCcw5cVKiWJa98",
      "include_colab_link": true
    },
    "kernelspec": {
      "name": "python3",
      "display_name": "Python 3"
    },
    "language_info": {
      "name": "python"
    }
  },
  "cells": [
    {
      "cell_type": "markdown",
      "metadata": {
        "id": "view-in-github",
        "colab_type": "text"
      },
      "source": [
        "<a href=\"https://colab.research.google.com/github/DCI-alxogm/me2025-clase-mariajosebaro07-sudo/blob/main/Tarea_3_19Ago.ipynb\" target=\"_parent\"><img src=\"https://colab.research.google.com/assets/colab-badge.svg\" alt=\"Open In Colab\"/></a>"
      ]
    },
    {
      "cell_type": "code",
      "execution_count": 11,
      "metadata": {
        "id": "IW79seMd0fxp"
      },
      "outputs": [],
      "source": [
        "!gcc Tarea_3.c -o Tarea_3.out -lm"
      ]
    },
    {
      "cell_type": "code",
      "source": [
        "!./Tarea_3.out"
      ],
      "metadata": {
        "colab": {
          "base_uri": "https://localhost:8080/"
        },
        "id": "ByNbuUmg1Lmn",
        "outputId": "8ebf7a99-999e-416c-970e-6f5a199eb658"
      },
      "execution_count": 12,
      "outputs": [
        {
          "output_type": "stream",
          "name": "stdout",
          "text": [
            "Ingrese un numero para analizar si es par o impar: 10\n",
            "El numero 10 es PAR.\n",
            "\n",
            "¿Desea analizar otro numero? (si/no): no\n"
          ]
        }
      ]
    }
  ]
}