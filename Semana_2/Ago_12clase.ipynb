{
  "nbformat": 4,
  "nbformat_minor": 0,
  "metadata": {
    "colab": {
      "provenance": []
    },
    "kernelspec": {
      "name": "python3",
      "display_name": "Python 3"
    },
    "language_info": {
      "name": "python"
    }
  },
  "cells": [
    {
      "cell_type": "code",
      "source": [
        "!gcc Ago12_ejer1.c -o Ago12_ejer1.out -lm"
      ],
      "metadata": {
        "id": "j500YeJEMxLJ"
      },
      "execution_count": 38,
      "outputs": []
    },
    {
      "cell_type": "code",
      "source": [
        "!./Ago12_ejer1.out"
      ],
      "metadata": {
        "colab": {
          "base_uri": "https://localhost:8080/"
        },
        "id": "mDohnBksTfwx",
        "outputId": "afb8899f-4764-4447-f991-141aef3127ee"
      },
      "execution_count": 40,
      "outputs": [
        {
          "output_type": "stream",
          "name": "stdout",
          "text": [
            "x\t x^2 \t log(x+1) \t exp (x)+ cos(x)\n",
            "x=1 \n",
            " exp(x)+cos(x)= 3.258584\n",
            "2 0.477121\n",
            "x=3 \n",
            " exp(x)+cos(x)= 19.095545\n",
            "4 0.698970\n",
            "x=5 \n",
            " exp(x)+cos(x)= 148.696823\n",
            "Resultados\n",
            "\n",
            "3.258584\n",
            "0.477121\n",
            "19.095545\n",
            "0.698970\n",
            "148.696823\n",
            "Pi + Pi= 6.283185"
          ]
        }
      ]
    }
  ]
}