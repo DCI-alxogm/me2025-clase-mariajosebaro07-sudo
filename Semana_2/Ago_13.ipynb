{
  "nbformat": 4,
  "nbformat_minor": 0,
  "metadata": {
    "colab": {
      "provenance": []
    },
    "kernelspec": {
      "name": "python3",
      "display_name": "Python 3"
    },
    "language_info": {
      "name": "python"
    }
  },
  "cells": [
    {
      "cell_type": "code",
      "execution_count": 23,
      "metadata": {
        "id": "ceJN0B6RUA15"
      },
      "outputs": [],
      "source": [
        "!gcc Ago_13.c -o Ago_13.out"
      ]
    },
    {
      "cell_type": "code",
      "source": [
        "!./Ago_13.out"
      ],
      "metadata": {
        "colab": {
          "base_uri": "https://localhost:8080/"
        },
        "id": "Ee-nt9wTVTiz",
        "outputId": "5a9f886a-7053-4fe8-9f5a-c04e1e04bbfa"
      },
      "execution_count": 24,
      "outputs": [
        {
          "output_type": "stream",
          "name": "stdout",
          "text": [
            "Primera funcion: 5\n",
            "Segunda funcion: 5\n",
            "Tercera funcion: 5\n",
            "Cuarta funcion: 5\n",
            "Primera funcion: 5.000000\n",
            "Segunda funcion: 5.000000\n",
            "Tercera funcion: 5.857143\n",
            "Cuarta funcion: 5.857143\n"
          ]
        }
      ]
    }
  ]
}