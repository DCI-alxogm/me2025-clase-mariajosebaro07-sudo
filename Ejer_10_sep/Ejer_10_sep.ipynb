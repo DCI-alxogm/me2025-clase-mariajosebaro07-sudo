{
  "nbformat": 4,
  "nbformat_minor": 0,
  "metadata": {
    "colab": {
      "provenance": []
    },
    "kernelspec": {
      "name": "python3",
      "display_name": "Python 3"
    },
    "language_info": {
      "name": "python"
    }
  },
  "cells": [
    {
      "cell_type": "code",
      "execution_count": 11,
      "metadata": {
        "id": "iVxSoh3mE7xu"
      },
      "outputs": [],
      "source": [
        "!gcc Clase_09_sep.c -o Clase_09_sep.out -lm"
      ]
    },
    {
      "cell_type": "code",
      "source": [
        "!./Clase_09_sep.out"
      ],
      "metadata": {
        "colab": {
          "base_uri": "https://localhost:8080/",
          "height": 0
        },
        "id": "JZ5jpDchFLcP",
        "outputId": "430bba7f-a683-439d-d257-422c775b27ee"
      },
      "execution_count": 12,
      "outputs": [
        {
          "output_type": "stream",
          "name": "stdout",
          "text": [
            "MÉTODO DE BISECCIÓN\n",
            "Intervalo inicial: [14.50, 15.50]\n",
            "Tolerancia: 0.00000100\n",
            "\n",
            "Raíz aproximada encontrada: 14.801139\n",
            "f(c) en la raíz: -0.000008\n",
            "Iteraciones realizadas: 20\n",
            "Error final: 0.0000009537\n"
          ]
        }
      ]
    },
    {
      "cell_type": "code",
      "source": [
        "!gcc maria.c -o maria.out -lm"
      ],
      "metadata": {
        "id": "3xPrqNlMt7OX"
      },
      "execution_count": 23,
      "outputs": []
    },
    {
      "cell_type": "code",
      "source": [
        "!./maria.out"
      ],
      "metadata": {
        "colab": {
          "base_uri": "https://localhost:8080/"
        },
        "id": "kA76HD1bt2Ie",
        "outputId": "eb8f44c4-6d26-45b8-be15-b08191e2ec2b"
      },
      "execution_count": 24,
      "outputs": [
        {
          "output_type": "stream",
          "name": "stdout",
          "text": [
            "==============================================================\n",
            " Iter |    k_old    |     k       |  Err Abs   |  Err Rel   \n",
            "==============================================================\n",
            "    1 |   0.000000 |  15.000000 |  15.000000 |   1.000000\n",
            "    2 |  15.000000 |  14.750000 |   0.250000 |   0.016949\n",
            "    3 |  14.750000 |  14.875000 |   0.125000 |   0.008403\n",
            "    4 |  14.875000 |  14.812500 |   0.062500 |   0.004219\n",
            "    5 |  14.812500 |  14.781250 |   0.031250 |   0.002114\n",
            "    6 |  14.781250 |  14.796875 |   0.015625 |   0.001056\n",
            "    7 |  14.796875 |  14.804688 |   0.007812 |   0.000528\n",
            "    8 |  14.804688 |  14.800781 |   0.003906 |   0.000264\n",
            "    9 |  14.800781 |  14.802734 |   0.001953 |   0.000132\n",
            "   10 |  14.802734 |  14.801758 |   0.000977 |   0.000066\n",
            "   11 |  14.801758 |  14.801270 |   0.000488 |   0.000033\n",
            "   12 |  14.801270 |  14.801025 |   0.000244 |   0.000016\n",
            "   13 |  14.801025 |  14.801147 |   0.000122 |   0.000008\n",
            "   14 |  14.801147 |  14.801086 |   0.000061 |   0.000004\n",
            "   15 |  14.801086 |  14.801117 |   0.000031 |   0.000002\n",
            "   16 |  14.801117 |  14.801132 |   0.000015 |   0.000001\n",
            "   17 |  14.801132 |  14.801140 |   0.000008 |   0.000001\n",
            "   18 |  14.801140 |  14.801136 |   0.000004 |   0.000000\n",
            "   19 |  14.801136 |  14.801138 |   0.000002 |   0.000000\n",
            "   20 |  14.801138 |  14.801139 |   0.000001 |   0.000000\n",
            "==============================================================\n",
            "Raíz aproximada: 14.801139\n",
            "f(c) evaluado en la raíz: -0.000008\n",
            "Iteraciones totales: 20\n",
            "Error final (absoluto): 0.0000009537\n",
            "Error final (relativo): 0.0000000644\n"
          ]
        }
      ]
    },
    {
      "cell_type": "code",
      "source": [
        "!gcc Ejer_10_09.c -o Ejer_10_09.out -lm"
      ],
      "metadata": {
        "id": "8DtDxzCFxruM"
      },
      "execution_count": 36,
      "outputs": []
    },
    {
      "cell_type": "code",
      "source": [
        "!./Ejer_10_09.out"
      ],
      "metadata": {
        "colab": {
          "base_uri": "https://localhost:8080/"
        },
        "id": "FqCFfEHv0ji9",
        "outputId": "e1f6f43d-e080-4c8a-df08-797ff9fcecbe"
      },
      "execution_count": 37,
      "outputs": [
        {
          "output_type": "stream",
          "name": "stdout",
          "text": [
            " Iteracciones |    k_old    |      k       |  Error Abs   |  Error Relativo\n",
            "=======================================================================\n",
            "    1 |   0.000000 |   4.000000 |    4.000000 |       1.000000\n",
            "    2 |   4.000000 |   4.500000 |    0.500000 |       0.111111\n",
            "    3 |   4.500000 |   4.250000 |    0.250000 |       0.058824\n",
            "    4 |   4.250000 |   4.375000 |    0.125000 |       0.028571\n",
            "    5 |   4.375000 |   4.437500 |    0.062500 |       0.014085\n",
            "    6 |   4.437500 |   4.468750 |    0.031250 |       0.006993\n",
            "    7 |   4.468750 |   4.484375 |    0.015625 |       0.003484\n",
            "    8 |   4.484375 |   4.476562 |    0.007812 |       0.001745\n",
            "    9 |   4.476562 |   4.472656 |    0.003906 |       0.000873\n",
            "   10 |   4.472656 |   4.470703 |    0.001953 |       0.000437\n",
            "   11 |   4.470703 |   4.471680 |    0.000977 |       0.000218\n",
            "   12 |   4.471680 |   4.471191 |    0.000488 |       0.000109\n",
            "   13 |   4.471191 |   4.470947 |    0.000244 |       0.000055\n",
            "   14 |   4.470947 |   4.470825 |    0.000122 |       0.000027\n",
            "   15 |   4.470825 |   4.470764 |    0.000061 |       0.000014\n",
            "=======================================================================\n",
            "Raíz aproximada encontrada: 4.470764\n",
            "f(c) evaluado en la raíz: 0.000352\n",
            "Iteraciones totales: 15\n",
            "Error absoluto final: 0.0000610352\n",
            "Error relativo final: 0.0000136521\n"
          ]
        }
      ]
    }
  ]
}