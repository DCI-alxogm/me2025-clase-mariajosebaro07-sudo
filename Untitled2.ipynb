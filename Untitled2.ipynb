{
  "nbformat": 4,
  "nbformat_minor": 0,
  "metadata": {
    "colab": {
      "provenance": [],
      "authorship_tag": "ABX9TyNsJpL00/gg7CSZuZRbHNzW",
      "include_colab_link": true
    },
    "kernelspec": {
      "name": "python3",
      "display_name": "Python 3"
    },
    "language_info": {
      "name": "python"
    }
  },
  "cells": [
    {
      "cell_type": "markdown",
      "metadata": {
        "id": "view-in-github",
        "colab_type": "text"
      },
      "source": [
        "<a href=\"https://colab.research.google.com/github/DCI-alxogm/me2025-clase-mariajosebaro07-sudo/blob/main/Untitled2.ipynb\" target=\"_parent\"><img src=\"https://colab.research.google.com/assets/colab-badge.svg\" alt=\"Open In Colab\"/></a>"
      ]
    },
    {
      "cell_type": "code",
      "source": [
        "!gcc Ago12_ejer1.c -o Ago12_ejer1.out -lm"
      ],
      "metadata": {
        "id": "j500YeJEMxLJ"
      },
      "execution_count": 29,
      "outputs": []
    },
    {
      "cell_type": "code",
      "source": [
        "!./Ago12_ejer1.out"
      ],
      "metadata": {
        "colab": {
          "base_uri": "https://localhost:8080/"
        },
        "id": "mDohnBksTfwx",
        "outputId": "a00bc16e-4b83-4605-c831-b94cc32ee94f"
      },
      "execution_count": 31,
      "outputs": [
        {
          "output_type": "stream",
          "name": "stdout",
          "text": [
            " 1.000000 1.000000 0.301030 4.666001\n",
            " 2.000000 4.000000 0.477121 4.873699\n",
            " 3.000000 9.000000 0.602060 7.463373\n",
            " 4.000000 16.000000 0.698970 28.399069\n",
            " 5.000000 25.000000 0.778151 197.090337\n"
          ]
        }
      ]
    }
  ]
}