{
  "nbformat": 4,
  "nbformat_minor": 0,
  "metadata": {
    "colab": {
      "provenance": [],
      "authorship_tag": "ABX9TyO3x3JtGUcej4oi0ySOiMFk",
      "include_colab_link": true
    },
    "kernelspec": {
      "name": "python3",
      "display_name": "Python 3"
    },
    "language_info": {
      "name": "python"
    }
  },
  "cells": [
    {
      "cell_type": "markdown",
      "metadata": {
        "id": "view-in-github",
        "colab_type": "text"
      },
      "source": [
        "<a href=\"https://colab.research.google.com/github/DCI-alxogm/me2025-clase-mariajosebaro07-sudo/blob/main/Ago_13.ipynb\" target=\"_parent\"><img src=\"https://colab.research.google.com/assets/colab-badge.svg\" alt=\"Open In Colab\"/></a>"
      ]
    },
    {
      "cell_type": "code",
      "execution_count": 23,
      "metadata": {
        "id": "ceJN0B6RUA15"
      },
      "outputs": [],
      "source": [
        "!gcc Ago_13.c -o Ago_13.out"
      ]
    },
    {
      "cell_type": "code",
      "source": [
        "!./Ago_13.out"
      ],
      "metadata": {
        "colab": {
          "base_uri": "https://localhost:8080/"
        },
        "id": "Ee-nt9wTVTiz",
        "outputId": "5a9f886a-7053-4fe8-9f5a-c04e1e04bbfa"
      },
      "execution_count": 24,
      "outputs": [
        {
          "output_type": "stream",
          "name": "stdout",
          "text": [
            "Primera funcion: 5\n",
            "Segunda funcion: 5\n",
            "Tercera funcion: 5\n",
            "Cuarta funcion: 5\n",
            "Primera funcion: 5.000000\n",
            "Segunda funcion: 5.000000\n",
            "Tercera funcion: 5.857143\n",
            "Cuarta funcion: 5.857143\n"
          ]
        }
      ]
    }
  ]
}